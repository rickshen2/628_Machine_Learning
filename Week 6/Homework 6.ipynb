{
 "cells": [
  {
   "cell_type": "markdown",
   "metadata": {},
   "source": [
    "![Image Description](DeepNN.jpg)\n",
    "\n",
    "\n",
    "\n",
    "*   Input layer ( $h^{0}$: $\\mathbb{R}^d \\to \\mathbb{R}^{n_0}$ ): $h^{(0)}(x)=x$.\n",
    "*  Hidden layer ($h^{l} : \\mathbb{R}^d \\to \\mathbb{R}^{n_l}$) :$ \\forall l \\in \\{1,2,\\ldots,L-1\\}$.\n",
    "* Output layer ($h^{L}: \\mathbb{R}^d \\to \\mathbb{R}^e$):\n",
    "\\begin{align*}\n",
    "z^{(l+1)} & = W^{(l)}h^{(l)}+b^{(l)},\\\\\n",
    "h^{(l+1)} & = \\sigma \\left(z^{(l+1)}\\right),\n",
    "\\end{align*}\n",
    "\n",
    "where ${\\color{red}\\sigma}$ is an* activation function*, which is usually non-linear, e.g. the sigmoid function $\\sigma(x) = \\frac{1}{1+e^{-x}}$. The parameter set ${\\color{blue}\\theta} = (W^{l}, b^{l})_{l =1}^{L}$}.\n"
   ]
  },
  {
   "cell_type": "code",
   "execution_count": null,
   "metadata": {},
   "outputs": [],
   "source": [
    "import numpy as np\n",
    "from keras.datasets import mnist\n",
    "from tensorflow.keras.utils import to_categorical\n"
   ]
  },
  {
   "cell_type": "code",
   "execution_count": 2,
   "metadata": {},
   "outputs": [],
   "source": [
    "# Import MNIST dataset\n",
    "(x_mnist_train, y_mnist_train), (x_mnist_test, y_mnist_test) = mnist.load_data()\n",
    "\n",
    "# Reshape input image data from matrixs to vectors\n",
    "[n_samples_train, width, height] = np.shape(x_mnist_train)\n",
    "[n_samples_test, width, height] = np.shape(x_mnist_test)\n",
    "x_train = x_mnist_train.reshape([n_samples_train, width*height]).astype('float32')\n",
    "x_test = x_mnist_test.reshape([n_samples_test, width*height]).astype('float32')\n",
    "\n",
    "# Normalize the dataset\n",
    "x_train /= 255\n",
    "x_test /= 255\n",
    "\n",
    "# Convert class vectors to one-hot vector matrices\n",
    "num_classes = 10\n",
    "y_train = to_categorical(y_mnist_train, num_classes)\n",
    "y_test = to_categorical(y_mnist_test, num_classes)"
   ]
  },
  {
   "cell_type": "code",
   "execution_count": null,
   "metadata": {},
   "outputs": [],
   "source": [
    "from tensorflow.keras.models import Sequential\n",
    "from tensorflow.keras.layers import Dense\n",
    "from tensorflow.keras.optimizers import SGD"
   ]
  }
 ],
 "metadata": {
  "kernelspec": {
   "display_name": "Python 3",
   "language": "python",
   "name": "python3"
  },
  "language_info": {
   "codemirror_mode": {
    "name": "ipython",
    "version": 3
   },
   "file_extension": ".py",
   "mimetype": "text/x-python",
   "name": "python",
   "nbconvert_exporter": "python",
   "pygments_lexer": "ipython3",
   "version": "3.12.3"
  }
 },
 "nbformat": 4,
 "nbformat_minor": 2
}
