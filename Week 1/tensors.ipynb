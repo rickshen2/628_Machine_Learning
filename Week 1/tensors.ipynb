{
 "cells": [
  {
   "cell_type": "code",
   "execution_count": 1,
   "metadata": {
    "id": "RKYRgroMcQIH"
   },
   "outputs": [],
   "source": [
    "# tensor multiplication\n",
    "\n",
    "import tensorflow.keras as keras\n",
    "import numpy as np\n",
    "from numpy.random import randint, seed\n",
    "from numpy import tensordot\n",
    "from pprint import pprint"
   ]
  },
  {
   "cell_type": "code",
   "execution_count": 2,
   "metadata": {},
   "outputs": [
    {
     "data": {
      "text/plain": [
       "'1.26.4'"
      ]
     },
     "execution_count": 2,
     "metadata": {},
     "output_type": "execute_result"
    }
   ],
   "source": [
    "np.__version__"
   ]
  },
  {
   "cell_type": "code",
   "execution_count": 3,
   "metadata": {
    "colab": {
     "base_uri": "https://localhost:8080/"
    },
    "id": "g8fk2h8Vc_lw",
    "outputId": "d0494bc8-0a8c-4dff-e6ce-c474cdad8b19"
   },
   "outputs": [
    {
     "name": "stdout",
     "output_type": "stream",
     "text": [
      "(3, 4, 4) (4, 3)\n",
      "array([[[3, 7, 7, 0],\n",
      "        [1, 0, 8, 4],\n",
      "        [4, 4, 2, 8],\n",
      "        [2, 4, 2, 5]],\n",
      "\n",
      "       [[5, 4, 0, 4],\n",
      "        [2, 5, 4, 7],\n",
      "        [0, 4, 7, 1],\n",
      "        [0, 2, 1, 7]],\n",
      "\n",
      "       [[1, 5, 6, 5],\n",
      "        [7, 8, 8, 2],\n",
      "        [2, 6, 3, 3],\n",
      "        [6, 5, 8, 4]]])\n",
      "\n",
      "array([[-2, -3, -2],\n",
      "       [-2, -3, -3],\n",
      "       [-3, -1,  0],\n",
      "       [-2,  2,  0]])\n"
     ]
    }
   ],
   "source": [
    "seed(1000)\n",
    "\n",
    "r1 = randint(0,9, size=(3,4,4))\n",
    "r2 = randint(-3,3, (4,3))\n",
    "print(r1.shape, r2.shape)\n",
    "pprint(r1);print();pprint(r2)"
   ]
  },
  {
   "cell_type": "code",
   "execution_count": null,
   "metadata": {
    "id": "wyodmmqCCyoJ"
   },
   "outputs": [],
   "source": []
  },
  {
   "cell_type": "code",
   "execution_count": 4,
   "metadata": {
    "colab": {
     "base_uri": "https://localhost:8080/"
    },
    "id": "j2pQbqFPgaIj",
    "outputId": "0e453df8-8ff4-48ae-d10a-b6ee98e31ef2"
   },
   "outputs": [
    {
     "name": "stdout",
     "output_type": "stream",
     "text": [
      "(3, 4, 4) (4, 3) (3, 4, 3)\n",
      "array([[[-41, -37, -27],\n",
      "        [-34,  -3,  -2],\n",
      "        [-38, -10, -20],\n",
      "        [-28, -10, -16]],\n",
      "\n",
      "       [[-26, -19, -22],\n",
      "        [-40, -11, -19],\n",
      "        [-31, -17, -12],\n",
      "        [-21,   7,  -6]],\n",
      "\n",
      "       [[-40, -14, -17],\n",
      "        [-58, -49, -38],\n",
      "        [-31, -21, -22],\n",
      "        [-54, -33, -27]]])\n"
     ]
    }
   ],
   "source": [
    "prod = tensordot(r1, r2, (2,0))\n",
    "print(r1.shape, r2.shape, prod.shape)\n",
    "pprint(prod)"
   ]
  },
  {
   "cell_type": "code",
   "execution_count": 5,
   "metadata": {
    "colab": {
     "base_uri": "https://localhost:8080/"
    },
    "id": "kHAz5SwWWpxu",
    "outputId": "e9aafd37-5b54-46f4-ef2b-081837e39a74"
   },
   "outputs": [
    {
     "name": "stdout",
     "output_type": "stream",
     "text": [
      "tf.Tensor(\n",
      "[[1 2 3]\n",
      " [0 0 0]], shape=(2, 3), dtype=int32)\n"
     ]
    }
   ],
   "source": [
    "import tensorflow as tf\n",
    "from tensorflow.keras.models import Model\n",
    "from tensorflow.keras.layers import Input, Multiply\n",
    "import numpy as np\n",
    "\n",
    "print(Multiply()([np.array([1,2,3,4,4,4]).reshape(2,3), np.array([1,0])]))"
   ]
  },
  {
   "cell_type": "code",
   "execution_count": 6,
   "metadata": {
    "colab": {
     "base_uri": "https://localhost:8080/"
    },
    "id": "ecgdLWmVY36R",
    "outputId": "be9d4a98-e1a0-4ee2-8b20-b4243495f1a0"
   },
   "outputs": [
    {
     "name": "stdout",
     "output_type": "stream",
     "text": [
      "[[[1 2 3]\n",
      "  [4 4 4]]]\n",
      "\n",
      "[[1 0]]\n",
      "\n",
      "\u001b[1m1/1\u001b[0m \u001b[32m━━━━━━━━━━━━━━━━━━━━\u001b[0m\u001b[37m\u001b[0m \u001b[1m0s\u001b[0m 84ms/step\n",
      "[[[1. 2. 3.]\n",
      "  [0. 0. 0.]]]\n",
      "<class 'numpy.ndarray'>\n"
     ]
    }
   ],
   "source": [
    "input_1 = Input(shape=(None, 3))\n",
    "mask_1 = Input(shape=(None, 1))\n",
    "\n",
    "net = Multiply()([input_1, mask_1])\n",
    "net1 = Model(inputs=[input_1, mask_1], outputs=net)\n",
    "\n",
    "print(np.array([1,2,3,4,4,4]).reshape(1,2,3))\n",
    "print()\n",
    "print(np.array([1,0]).reshape(1,2))\n",
    "print()\n",
    "out1 = net1.predict([np.array([1,2,3,4,4,4]).reshape(1,2,3), np.array([1,0]).reshape(1,2)])\n",
    "print(out1); print(type(out1))"
   ]
  },
  {
   "cell_type": "code",
   "execution_count": 7,
   "metadata": {
    "colab": {
     "base_uri": "https://localhost:8080/"
    },
    "id": "i5yjOxgmbGdS",
    "outputId": "02790bb3-81e6-4548-dfb4-3f6ce99b7305"
   },
   "outputs": [
    {
     "data": {
      "text/plain": [
       "array([[[ 5.,  9., 13.],\n",
       "        [ 1.,  1.,  1.]]], dtype=float32)"
      ]
     },
     "execution_count": 7,
     "metadata": {},
     "output_type": "execute_result"
    }
   ],
   "source": [
    "out1 * 4 + 1"
   ]
  }
 ],
 "metadata": {
  "colab": {
   "collapsed_sections": [],
   "name": "tensors.ipynb",
   "provenance": []
  },
  "kernelspec": {
   "display_name": "Python 3 (ipykernel)",
   "language": "python",
   "name": "python3"
  },
  "language_info": {
   "codemirror_mode": {
    "name": "ipython",
    "version": 3
   },
   "file_extension": ".py",
   "mimetype": "text/x-python",
   "name": "python",
   "nbconvert_exporter": "python",
   "pygments_lexer": "ipython3",
   "version": "3.12.3"
  }
 },
 "nbformat": 4,
 "nbformat_minor": 4
}
