{
 "cells": [
  {
   "cell_type": "markdown",
   "metadata": {},
   "source": [
    "![alt text](Kung_Men.jpg)"
   ]
  },
  {
   "cell_type": "code",
   "execution_count": 1,
   "metadata": {},
   "outputs": [],
   "source": [
    "import numpy as np\n",
    "import pandas as pd\n",
    "import matplotlib.pyplot as plt\n",
    "import seaborn as sns\n",
    "\n",
    "import os\n",
    "# base_path = \"/kaggle/input/playground-series-s4e10\"\n",
    "df_train = pd.read_csv(os.path.join('train.csv'))\n",
    "df_test = pd.read_csv(os.path.join('test.csv'))\n",
    "df_sample = pd.read_csv(os.path.join('sample_submission.csv'))\n",
    "TARGET = 'loan_status'\n",
    "\n"
   ]
  },
  {
   "cell_type": "markdown",
   "metadata": {},
   "source": [
    "Preprocessing"
   ]
  },
  {
   "cell_type": "code",
   "execution_count": 2,
   "metadata": {},
   "outputs": [
    {
     "name": "stdout",
     "output_type": "stream",
     "text": [
      "Column 'id' has 0 NaN values.\n",
      "Column 'person_age' has 0 NaN values.\n",
      "Column 'person_income' has 0 NaN values.\n",
      "Column 'person_home_ownership' has 0 NaN values.\n",
      "Column 'person_emp_length' has 0 NaN values.\n",
      "Column 'loan_intent' has 0 NaN values.\n",
      "Column 'loan_grade' has 0 NaN values.\n",
      "Column 'loan_amnt' has 0 NaN values.\n",
      "Column 'loan_int_rate' has 0 NaN values.\n",
      "Column 'loan_percent_income' has 0 NaN values.\n",
      "Column 'cb_person_default_on_file' has 0 NaN values.\n",
      "Column 'cb_person_cred_hist_length' has 0 NaN values.\n",
      "Column 'loan_status' has 0 NaN values.\n"
     ]
    }
   ],
   "source": [
    "for column in df_train.columns:\n",
    "    nan_count = df_train[column].isna().sum()\n",
    "    print(f\"Column '{column}' has {nan_count} NaN values.\")\n"
   ]
  },
  {
   "cell_type": "code",
   "execution_count": 3,
   "metadata": {},
   "outputs": [
    {
     "name": "stdout",
     "output_type": "stream",
     "text": [
      "   id  person_age  person_income  person_home_ownership  person_emp_length  \\\n",
      "0   0          37          35000                      3                0.0   \n",
      "1   1          22          56000                      2                6.0   \n",
      "2   2          29          28800                      2                8.0   \n",
      "3   3          30          70000                      3               14.0   \n",
      "4   4          22          60000                      3                2.0   \n",
      "\n",
      "   loan_intent  loan_grade  loan_amnt  loan_int_rate  loan_percent_income  \\\n",
      "0            1           1       6000          11.49                 0.17   \n",
      "1            3           2       4000          13.35                 0.07   \n",
      "2            4           0       6000           8.90                 0.21   \n",
      "3            5           1      12000          11.11                 0.17   \n",
      "4            3           0       6000           6.92                 0.10   \n",
      "\n",
      "   cb_person_default_on_file  cb_person_cred_hist_length  loan_status  \n",
      "0                          0                          14            0  \n",
      "1                          0                           2            0  \n",
      "2                          0                          10            0  \n",
      "3                          0                           5            0  \n",
      "4                          0                           3            0  \n"
     ]
    }
   ],
   "source": [
    "from sklearn.preprocessing import LabelEncoder\n",
    "\n",
    "label_encoder = LabelEncoder()\n",
    "\n",
    "for col in df_train.select_dtypes(include=['object']).columns:\n",
    "    df_train[col] = label_encoder.fit_transform(df_train[col])\n",
    "\n",
    "for col in df_test.select_dtypes(include=['object']).columns:\n",
    "    df_test[col] = label_encoder.fit_transform(df_test[col])\n",
    "\n",
    "print(df_train.head())\n"
   ]
  },
  {
   "cell_type": "code",
   "execution_count": 4,
   "metadata": {},
   "outputs": [
    {
     "name": "stdout",
     "output_type": "stream",
     "text": [
      "                 id    person_age  person_income  person_home_ownership  \\\n",
      "count  58645.000000  58645.000000   5.864500e+04           58645.000000   \n",
      "mean   29322.000000     27.550857   6.404617e+04               1.673578   \n",
      "std    16929.497605      6.033216   3.793111e+04               1.452534   \n",
      "min        0.000000     20.000000   4.200000e+03               0.000000   \n",
      "25%    14661.000000     23.000000   4.200000e+04               0.000000   \n",
      "50%    29322.000000     26.000000   5.800000e+04               3.000000   \n",
      "75%    43983.000000     30.000000   7.560000e+04               3.000000   \n",
      "max    58644.000000    123.000000   1.900000e+06               3.000000   \n",
      "\n",
      "       person_emp_length   loan_intent    loan_grade     loan_amnt  \\\n",
      "count       58645.000000  58645.000000  58645.000000  58645.000000   \n",
      "mean            4.701015      2.519430      1.066638   9217.556518   \n",
      "std             3.959784      1.722896      1.046181   5563.807384   \n",
      "min             0.000000      0.000000      0.000000    500.000000   \n",
      "25%             2.000000      1.000000      0.000000   5000.000000   \n",
      "50%             4.000000      3.000000      1.000000   8000.000000   \n",
      "75%             7.000000      4.000000      2.000000  12000.000000   \n",
      "max           123.000000      5.000000      6.000000  35000.000000   \n",
      "\n",
      "       loan_int_rate  loan_percent_income  cb_person_default_on_file  \\\n",
      "count   58645.000000         58645.000000               58645.000000   \n",
      "mean       10.677874             0.159238                   0.148384   \n",
      "std         3.034697             0.091692                   0.355484   \n",
      "min         5.420000             0.000000                   0.000000   \n",
      "25%         7.880000             0.090000                   0.000000   \n",
      "50%        10.750000             0.140000                   0.000000   \n",
      "75%        12.990000             0.210000                   0.000000   \n",
      "max        23.220000             0.830000                   1.000000   \n",
      "\n",
      "       cb_person_cred_hist_length   loan_status  \n",
      "count                58645.000000  58645.000000  \n",
      "mean                     5.813556      0.142382  \n",
      "std                      4.029196      0.349445  \n",
      "min                      2.000000      0.000000  \n",
      "25%                      3.000000      0.000000  \n",
      "50%                      4.000000      0.000000  \n",
      "75%                      8.000000      0.000000  \n",
      "max                     30.000000      1.000000  \n"
     ]
    }
   ],
   "source": [
    "print(df_train.describe())"
   ]
  },
  {
   "cell_type": "code",
   "execution_count": 5,
   "metadata": {},
   "outputs": [],
   "source": [
    "from sklearn.preprocessing import StandardScaler\n",
    "scaler = StandardScaler()\n",
    "\n",
    "X_train = df_train.drop(['id','loan_status'], axis=1).values\n",
    "# X_scaled = scaler.fit_transform(df_train.drop(['id','loan_status'], axis=1))\n",
    "\n",
    "y_train = df_train['loan_status'].values\n",
    "\n",
    "# X_test = df_test.values\n",
    "\n",
    "X_test_ids = df_test['id'] \n",
    "X_test_scaled = scaler.transform(df_test.drop('id', axis=1))  # Scale the test set features\n",
    "\n"
   ]
  },
  {
   "cell_type": "markdown",
   "metadata": {},
   "source": [
    "![alt text](DeepNN.jpg)"
   ]
  },
  {
   "cell_type": "code",
   "execution_count": 10,
   "metadata": {},
   "outputs": [
    {
     "name": "stderr",
     "output_type": "stream",
     "text": [
      "c:\\Users\\Big_Guppy\\AppData\\Local\\Programs\\Python\\Python312\\Lib\\site-packages\\sklearn\\ensemble\\_weight_boosting.py:527: FutureWarning: The SAMME.R algorithm (the default) is deprecated and will be removed in 1.6. Use the SAMME algorithm to circumvent this warning.\n",
      "  warnings.warn(\n"
     ]
    },
    {
     "name": "stdout",
     "output_type": "stream",
     "text": [
      "Accuracy: 0.8331550298219552\n"
     ]
    }
   ],
   "source": [
    "# from tensorflow.keras.models import Sequential\n",
    "# from tensorflow.keras.layers import Dense\n",
    "from sklearn.ensemble import VotingClassifier, GradientBoostingClassifier, AdaBoostClassifier\n",
    "from sklearn.model_selection import train_test_split\n",
    "from sklearn.metrics import roc_auc_score\n",
    "from sklearn.linear_model import LogisticRegression\n",
    "from sklearn.svm import SVC\n",
    "from sklearn.tree import DecisionTreeClassifier\n",
    "\n",
    "X_train, X_valid, y_train, y_valid = train_test_split(X_train, y_train, test_size=0.2, random_state=42)\n",
    "\n",
    "clf1 = LogisticRegression()\n",
    "clf2 = SVC(probability=True)\n",
    "# clf3 = DecisionTreeClassifier()\n",
    "clf4 = GradientBoostingClassifier(max_depth = 3, n_estimators=100)\n",
    "clf5 = AdaBoostClassifier(estimator=DecisionTreeClassifier(), n_estimators=100, random_state=42)\n",
    "\n",
    "# Create Voting Classifier\n",
    "# voting_clf = VotingClassifier(estimators=[\n",
    "#     ('lr', clf1), ('svc', clf2), ('dt', clf3), ('gbt', clf4)], voting='soft')\n",
    "voting_clf = VotingClassifier(estimators=[\n",
    "    ('lr', clf1), ('svc', clf2), ('AdaBoost', clf5), ('gbt', clf4)], voting='soft')\n",
    "# Train ensemble\n",
    "voting_clf.fit(X_train, y_train)\n",
    "\n",
    "# Make predictions\n",
    "y_pred = voting_clf.predict(X_valid)\n",
    "print(\"Accuracy:\", roc_auc_score(y_valid, y_pred))\n",
    "\n",
    "\n",
    "\n",
    "# Create the model\n",
    "# model = Sequential()\n",
    "# model.add(Dense(4, input_dim=X_scaled.shape[1], activation='relu'))  # First hidden layer\n",
    "# model.add(Dense(4, activation='relu'))  # Second hidden layer\n",
    "# model.add(Dense(1, activation='sigmoid'))  # Output layer\n",
    "\n",
    "# Compile the model\n",
    "# model.compile(loss='binary_crossentropy', optimizer='sgd')\n",
    "\n",
    "# Fit the model\n",
    "# model.fit(X_scaled, y_train, epochs=100, batch_size=10, verbose=1)\n"
   ]
  },
  {
   "cell_type": "code",
   "execution_count": 42,
   "metadata": {},
   "outputs": [
    {
     "name": "stdout",
     "output_type": "stream",
     "text": [
      "\u001b[1m1222/1222\u001b[0m \u001b[32m━━━━━━━━━━━━━━━━━━━━\u001b[0m\u001b[37m\u001b[0m \u001b[1m4s\u001b[0m 3ms/step\n"
     ]
    }
   ],
   "source": [
    "\n",
    "# Make predictions\n",
    "y_test_pred_probs = voting_clf.predict(X_test_scaled).flatten()\n",
    "\n",
    "# Prepare the submission DataFrame\n",
    "submission_df = pd.DataFrame({\n",
    "    'id': X_test_ids,\n",
    "    'loan_status': y_test_pred_probs\n",
    "})\n",
    "\n",
    "# Save to CSV\n",
    "submission_df.to_csv('submission.csv', index=False)\n",
    "\n"
   ]
  }
 ],
 "metadata": {
  "kernelspec": {
   "display_name": "Python 3",
   "language": "python",
   "name": "python3"
  },
  "language_info": {
   "codemirror_mode": {
    "name": "ipython",
    "version": 3
   },
   "file_extension": ".py",
   "mimetype": "text/x-python",
   "name": "python",
   "nbconvert_exporter": "python",
   "pygments_lexer": "ipython3",
   "version": "3.12.3"
  }
 },
 "nbformat": 4,
 "nbformat_minor": 2
}
